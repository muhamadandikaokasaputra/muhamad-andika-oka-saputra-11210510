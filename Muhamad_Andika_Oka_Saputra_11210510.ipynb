{
  "nbformat": 4,
  "nbformat_minor": 0,
  "metadata": {
    "colab": {
      "provenance": [],
      "authorship_tag": "ABX9TyMkJ5xL9u1dCYsqNC3QGmGP",
      "include_colab_link": true
    },
    "kernelspec": {
      "name": "python3",
      "display_name": "Python 3"
    },
    "language_info": {
      "name": "python"
    }
  },
  "cells": [
    {
      "cell_type": "markdown",
      "metadata": {
        "id": "view-in-github",
        "colab_type": "text"
      },
      "source": [
        "<a href=\"https://colab.research.google.com/github/muhamadandikaokasaputra/muhamad-andika-oka-saputra-11210510/blob/main/Muhamad_Andika_Oka_Saputra_11210510.ipynb\" target=\"_parent\"><img src=\"https://colab.research.google.com/assets/colab-badge.svg\" alt=\"Open In Colab\"/></a>"
      ]
    },
    {
      "cell_type": "code",
      "execution_count": 9,
      "metadata": {
        "colab": {
          "base_uri": "https://localhost:8080/"
        },
        "id": "pGIJQQE7L6n0",
        "outputId": "3d7f3942-f408-4f4a-bcea-1082ddc968a8"
      },
      "outputs": [
        {
          "output_type": "stream",
          "name": "stdout",
          "text": [
            "kobis\n",
            "5\n",
            "10\n",
            "hasil remove 9\n",
            "hasil POP 8\n",
            "sawi\n",
            "kobis\n",
            "daun singkong\n",
            "wortel\n",
            "tomat\n",
            "terong\n",
            "cabe\n",
            "kentang\n",
            "pare\n"
          ]
        }
      ],
      "source": [
        "sayur = [\"sawi\", \"kobis\", \"bayam\", \"daun singkong\",\"kangkung\"]\n",
        "\n",
        "print(sayur [1])\n",
        "\n",
        "print(len(sayur))\n",
        "\n",
        "sayur.append(\"wortel\")\n",
        "sayur.append(\"tomat\")\n",
        "sayur.append(\"terong\")\n",
        "sayur.append(\"cabe\")\n",
        "sayur.append(\"kentang\")\n",
        "\n",
        "print(len(sayur))\n",
        "sayur.remove(\"bayam\")\n",
        "\n",
        "print(\"hasil remove\", len(sayur))\n",
        "\n",
        "sayur.pop(3)\n",
        "print(\"hasil POP\", len(sayur))\n",
        "\n",
        "#menyisipkan elemen array.insert(data)\n",
        "#sayur = [\"sawi\", \"kobis\",\"pare\",\"bayam\", \"daun singkong\",\"kangkung\"]\n",
        "sayur.append(\"pare\")\n",
        "\n",
        "for datanya in sayur :\n",
        "  print(datanya)"
      ]
    }
  ]
}